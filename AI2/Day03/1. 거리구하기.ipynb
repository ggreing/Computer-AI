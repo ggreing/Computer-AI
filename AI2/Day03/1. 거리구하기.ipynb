{
 "cells": [
  {
   "cell_type": "markdown",
   "id": "207837ab",
   "metadata": {},
   "source": [
    "## 1. 유클리드 거리"
   ]
  },
  {
   "cell_type": "code",
   "execution_count": 2,
   "id": "7c7deff1",
   "metadata": {},
   "outputs": [
    {
     "name": "stdout",
     "output_type": "stream",
     "text": [
      "유클리드 거리 : 11.661903789690601\n"
     ]
    }
   ],
   "source": [
    "def euclidean(a, b):\n",
    "    distance = 0\n",
    "    for i in range(len(a)):\n",
    "        distance += (a[i] - b[i]) ** 2\n",
    "    return distance ** 0.5\n",
    "\n",
    "a = [1,2,3,4,5]\n",
    "b = [2,3,6,9,15]\n",
    "\n",
    "print(f\"유클리드 거리 : {euclidean(a,b)}\")\n"
   ]
  },
  {
   "cell_type": "code",
   "execution_count": 9,
   "id": "b586d11b",
   "metadata": {},
   "outputs": [
    {
     "name": "stdout",
     "output_type": "stream",
     "text": [
      "넘파이이용 : 11.661903789690601\n"
     ]
    }
   ],
   "source": [
    "def euclidean1(a, b):\n",
    "    return np.sqrt(np.sum((a-b)**2))\n",
    "\n",
    "c = np.array([1, 2, 3, 4, 5])\n",
    "d = np.array([2, 3, 6, 9, 15])\n",
    "\n",
    "print(f\"넘파이 이용 : {euclidean1(c, d)}\")"
   ]
  },
  {
   "cell_type": "markdown",
   "id": "8f7857c5",
   "metadata": {},
   "source": [
    "## 2. 맨하탄 거리"
   ]
  },
  {
   "cell_type": "code",
   "execution_count": 11,
   "id": "e5a80705",
   "metadata": {},
   "outputs": [
    {
     "name": "stdout",
     "output_type": "stream",
     "text": [
      "맨하탄 거리 : 20\n"
     ]
    }
   ],
   "source": [
    "def manhattan(a, b):\n",
    "    distance = 0\n",
    "    for i in range(len(a)):\n",
    "        distance += abs(a[i] - b[i])\n",
    "    return distance\n",
    "\n",
    "print(f\"맨하탄 거리 : {manhattan(a,b)}\")"
   ]
  },
  {
   "cell_type": "code",
   "execution_count": 15,
   "id": "1a14a1ae",
   "metadata": {},
   "outputs": [
    {
     "name": "stdout",
     "output_type": "stream",
     "text": [
      "맨하탄 거리 : 20\n"
     ]
    }
   ],
   "source": [
    "def manhattan1(c, d):\n",
    "    return np.sum(np.abs(c - d))\n",
    "\n",
    "print(f\"넘파이 이용 : {manhattan1(c,d)}\")"
   ]
  },
  {
   "cell_type": "markdown",
   "id": "b78acd7c",
   "metadata": {},
   "source": [
    "## 3. 맨해튼 거리"
   ]
  },
  {
   "cell_type": "code",
   "execution_count": 16,
   "id": "329572fc",
   "metadata": {},
   "outputs": [
    {
     "name": "stdout",
     "output_type": "stream",
     "text": [
      "맨해튼 거리 : 10\n"
     ]
    }
   ],
   "source": [
    "def chebyshev(a, b):\n",
    "    distance = 0\n",
    "    for i in range(len(a)):\n",
    "        distance = max(distance, abs(a[i] - b[i]))\n",
    "    return distance\n",
    "\n",
    "print(f\"맨해튼 거리 : {chebyshev(a, b)}\")"
   ]
  },
  {
   "cell_type": "code",
   "execution_count": 18,
   "id": "ec021874",
   "metadata": {},
   "outputs": [
    {
     "name": "stdout",
     "output_type": "stream",
     "text": [
      "넘파이 이용 : 10\n"
     ]
    }
   ],
   "source": [
    "def chebyshev1(c, d):\n",
    "    return np.max(np.abs(c - d))\n",
    "\n",
    "print(f\"넘파이 이용 : {chebyshev1(c, d)}\")"
   ]
  },
  {
   "cell_type": "markdown",
   "id": "ae1300ee",
   "metadata": {},
   "source": [
    "## 4. 미스테이로비치 거리"
   ]
  },
  {
   "cell_type": "code",
   "execution_count": 20,
   "id": "5da2c4a8",
   "metadata": {},
   "outputs": [
    {
     "name": "stdout",
     "output_type": "stream",
     "text": [
      "미스테이로비치 거리 : 20.0\n"
     ]
    }
   ],
   "source": [
    "def minkowski(a, b, p):\n",
    "    distance = 0\n",
    "    for i in range(len(a)):\n",
    "        distance += abs(a[i] - b[i]) ** p\n",
    "    return distance ** (1/p)\n",
    "\n",
    "p = 1    # p = 1 : 맨하탄 거리, p = 2 : 유클리드 거리\n",
    "print(f\"미스테이로비치 거리 : {minkowski(a, b, p)}\")"
   ]
  },
  {
   "cell_type": "code",
   "execution_count": 22,
   "id": "41c8bdf0",
   "metadata": {},
   "outputs": [
    {
     "name": "stdout",
     "output_type": "stream",
     "text": [
      "넘파이 이용 : 11.661903789690601\n"
     ]
    }
   ],
   "source": [
    "def minkowski1(c, d, p):\n",
    "    return np.power(np.sum(np.abs(c - d) ** p), 1/p)\n",
    "\n",
    "\n",
    "p = 2\n",
    "\n",
    "print(f\"넘파이 이용 : {minkowski(c, d, p)}\")"
   ]
  },
  {
   "cell_type": "code",
   "execution_count": null,
   "id": "7aaab920",
   "metadata": {},
   "outputs": [],
   "source": []
  },
  {
   "cell_type": "code",
   "execution_count": null,
   "id": "f1de99bf",
   "metadata": {},
   "outputs": [],
   "source": []
  },
  {
   "cell_type": "code",
   "execution_count": null,
   "id": "a8dd5bfb",
   "metadata": {},
   "outputs": [],
   "source": []
  },
  {
   "cell_type": "code",
   "execution_count": null,
   "id": "07d64bf2",
   "metadata": {},
   "outputs": [],
   "source": []
  },
  {
   "cell_type": "code",
   "execution_count": null,
   "id": "b2fa5831",
   "metadata": {},
   "outputs": [],
   "source": []
  },
  {
   "cell_type": "code",
   "execution_count": null,
   "id": "42669212",
   "metadata": {},
   "outputs": [],
   "source": []
  },
  {
   "cell_type": "code",
   "execution_count": null,
   "id": "28f12244",
   "metadata": {},
   "outputs": [],
   "source": []
  }
 ],
 "metadata": {
  "kernelspec": {
   "display_name": "Python 3 (ipykernel)",
   "language": "python",
   "name": "python3"
  },
  "language_info": {
   "codemirror_mode": {
    "name": "ipython",
    "version": 3
   },
   "file_extension": ".py",
   "mimetype": "text/x-python",
   "name": "python",
   "nbconvert_exporter": "python",
   "pygments_lexer": "ipython3",
   "version": "3.11.5"
  }
 },
 "nbformat": 4,
 "nbformat_minor": 5
}
