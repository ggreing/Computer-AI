{
 "cells": [
  {
   "cell_type": "code",
   "execution_count": 1,
   "id": "acd02e5f",
   "metadata": {},
   "outputs": [
    {
     "name": "stdout",
     "output_type": "stream",
     "text": [
      "[['A', 'B', 'C'], ['A', 'B'], ['A', 'C'], ['B', 'C'], ['A', 'B', 'C'], ['B', 'C'], ['A', 'C'], ['A', 'B'], ['A'], ['A', 'C']]\n",
      "10\n",
      "{'A': 8, 'B': 6, 'C': 7}\n",
      "아이템 지지도\n",
      "{'A': 8, 'B': 6, 'C': 7}\n"
     ]
    }
   ],
   "source": [
    "# 아이템 데이터\n",
    "items = [['A', 'B', 'C'], ['A', 'B'], ['A', 'C'], ['B', 'C'],\n",
    "        ['A', 'B', 'C'], ['B', 'C'], ['A', 'C'], ['A', 'B'],\n",
    "        ['A'], ['A', 'C']]\n",
    "print(items)\n",
    "\n",
    "# 최소 지지도 임계치 설정\n",
    "min_support = 0.3 #이 임계치 이상의 지지도를 가지는 아이템을 찾을 것\n",
    "\n",
    "# 아이템 지지도 계산\n",
    "item_counts = {}\n",
    "transaction = len(items) # 전체 트랜잭션의 수\n",
    "print(transaction)\n",
    "\n",
    "# 각 트랜잭션에서 아이템의 지지도를 계산\n",
    "for i in items:\n",
    "#     print(i)\n",
    "    for j in i:\n",
    "#         print(j)\n",
    "        if j in item_counts:\n",
    "            item_counts[j] += 1\n",
    "        else:\n",
    "            item_counts[j] = 1\n",
    "\n",
    "print(item_counts)\n",
    "\n",
    "# 아이템 지지도가 최소 지지도 임계치 이상인 아이템들을 찾기\n",
    "frequent = {}\n",
    "\n",
    "for item, support in item_counts.items():\n",
    "#     print(item, support)\n",
    "    if support / transaction >= min_support:\n",
    "        frequent[item] = support\n",
    "\n",
    "print(\"아이템 지지도\")\n",
    "print(frequent)\n",
    "    "
   ]
  },
  {
   "cell_type": "markdown",
   "id": "4ad905e2",
   "metadata": {},
   "source": [
    "# apriori 알고리즘"
   ]
  },
  {
   "cell_type": "code",
   "execution_count": 2,
   "id": "b3d54355",
   "metadata": {},
   "outputs": [],
   "source": [
    "from mlxtend.frequent_patterns import apriori\n",
    "from mlxtend.frequent_patterns import association_rules\n",
    "import pandas as pd"
   ]
  },
  {
   "cell_type": "code",
   "execution_count": 3,
   "id": "89773858",
   "metadata": {},
   "outputs": [
    {
     "data": {
      "text/html": [
       "<div>\n",
       "<style scoped>\n",
       "    .dataframe tbody tr th:only-of-type {\n",
       "        vertical-align: middle;\n",
       "    }\n",
       "\n",
       "    .dataframe tbody tr th {\n",
       "        vertical-align: top;\n",
       "    }\n",
       "\n",
       "    .dataframe thead th {\n",
       "        text-align: right;\n",
       "    }\n",
       "</style>\n",
       "<table border=\"1\" class=\"dataframe\">\n",
       "  <thead>\n",
       "    <tr style=\"text-align: right;\">\n",
       "      <th></th>\n",
       "      <th>Item1</th>\n",
       "      <th>Item2</th>\n",
       "      <th>Item3</th>\n",
       "    </tr>\n",
       "  </thead>\n",
       "  <tbody>\n",
       "    <tr>\n",
       "      <th>0</th>\n",
       "      <td>A</td>\n",
       "      <td>B</td>\n",
       "      <td>C</td>\n",
       "    </tr>\n",
       "    <tr>\n",
       "      <th>1</th>\n",
       "      <td>A</td>\n",
       "      <td>B</td>\n",
       "      <td>None</td>\n",
       "    </tr>\n",
       "    <tr>\n",
       "      <th>2</th>\n",
       "      <td>A</td>\n",
       "      <td>C</td>\n",
       "      <td>None</td>\n",
       "    </tr>\n",
       "    <tr>\n",
       "      <th>3</th>\n",
       "      <td>B</td>\n",
       "      <td>C</td>\n",
       "      <td>None</td>\n",
       "    </tr>\n",
       "    <tr>\n",
       "      <th>4</th>\n",
       "      <td>A</td>\n",
       "      <td>B</td>\n",
       "      <td>C</td>\n",
       "    </tr>\n",
       "    <tr>\n",
       "      <th>5</th>\n",
       "      <td>B</td>\n",
       "      <td>C</td>\n",
       "      <td>None</td>\n",
       "    </tr>\n",
       "    <tr>\n",
       "      <th>6</th>\n",
       "      <td>A</td>\n",
       "      <td>C</td>\n",
       "      <td>None</td>\n",
       "    </tr>\n",
       "    <tr>\n",
       "      <th>7</th>\n",
       "      <td>A</td>\n",
       "      <td>B</td>\n",
       "      <td>None</td>\n",
       "    </tr>\n",
       "    <tr>\n",
       "      <th>8</th>\n",
       "      <td>A</td>\n",
       "      <td>None</td>\n",
       "      <td>None</td>\n",
       "    </tr>\n",
       "    <tr>\n",
       "      <th>9</th>\n",
       "      <td>A</td>\n",
       "      <td>C</td>\n",
       "      <td>None</td>\n",
       "    </tr>\n",
       "  </tbody>\n",
       "</table>\n",
       "</div>"
      ],
      "text/plain": [
       "  Item1 Item2 Item3\n",
       "0     A     B     C\n",
       "1     A     B  None\n",
       "2     A     C  None\n",
       "3     B     C  None\n",
       "4     A     B     C\n",
       "5     B     C  None\n",
       "6     A     C  None\n",
       "7     A     B  None\n",
       "8     A  None  None\n",
       "9     A     C  None"
      ]
     },
     "execution_count": 3,
     "metadata": {},
     "output_type": "execute_result"
    }
   ],
   "source": [
    "# 아이템 데이터\n",
    "items = [['A', 'B', 'C'], ['A', 'B'], ['A', 'C'], ['B', 'C'],\n",
    "        ['A', 'B', 'C'], ['B', 'C'], ['A', 'C'], ['A', 'B'],\n",
    "        ['A'], ['A', 'C']]\n",
    "\n",
    "df = pd.DataFrame(items, columns = ['Item1', 'Item2', 'Item3'])\n",
    "df"
   ]
  },
  {
   "cell_type": "code",
   "execution_count": 4,
   "id": "48900de9",
   "metadata": {},
   "outputs": [
    {
     "name": "stdout",
     "output_type": "stream",
     "text": [
      "<class 'pandas.core.frame.DataFrame'>\n",
      "RangeIndex: 10 entries, 0 to 9\n",
      "Data columns (total 3 columns):\n",
      " #   Column  Non-Null Count  Dtype \n",
      "---  ------  --------------  ----- \n",
      " 0   Item1   10 non-null     object\n",
      " 1   Item2   9 non-null      object\n",
      " 2   Item3   2 non-null      object\n",
      "dtypes: object(3)\n",
      "memory usage: 372.0+ bytes\n"
     ]
    }
   ],
   "source": [
    "df.info()"
   ]
  },
  {
   "cell_type": "code",
   "execution_count": 5,
   "id": "5b6580a0",
   "metadata": {},
   "outputs": [
    {
     "name": "stdout",
     "output_type": "stream",
     "text": [
      "<class 'pandas.core.frame.DataFrame'>\n",
      "RangeIndex: 10 entries, 0 to 9\n",
      "Data columns (total 5 columns):\n",
      " #   Column   Non-Null Count  Dtype\n",
      "---  ------   --------------  -----\n",
      " 0   Item1_A  10 non-null     bool \n",
      " 1   Item1_B  10 non-null     bool \n",
      " 2   Item2_B  10 non-null     bool \n",
      " 3   Item2_C  10 non-null     bool \n",
      " 4   Item3_C  10 non-null     bool \n",
      "dtypes: bool(5)\n",
      "memory usage: 182.0 bytes\n"
     ]
    }
   ],
   "source": [
    "# 원핫인코딩\n",
    "one_hot = pd.get_dummies(df)\n",
    "one_hot.info()"
   ]
  },
  {
   "cell_type": "code",
   "execution_count": 7,
   "id": "18d76e78",
   "metadata": {},
   "outputs": [
    {
     "data": {
      "text/html": [
       "<div>\n",
       "<style scoped>\n",
       "    .dataframe tbody tr th:only-of-type {\n",
       "        vertical-align: middle;\n",
       "    }\n",
       "\n",
       "    .dataframe tbody tr th {\n",
       "        vertical-align: top;\n",
       "    }\n",
       "\n",
       "    .dataframe thead th {\n",
       "        text-align: right;\n",
       "    }\n",
       "</style>\n",
       "<table border=\"1\" class=\"dataframe\">\n",
       "  <thead>\n",
       "    <tr style=\"text-align: right;\">\n",
       "      <th></th>\n",
       "      <th>support</th>\n",
       "      <th>itemsets</th>\n",
       "    </tr>\n",
       "  </thead>\n",
       "  <tbody>\n",
       "    <tr>\n",
       "      <th>0</th>\n",
       "      <td>0.8</td>\n",
       "      <td>(Item1_A)</td>\n",
       "    </tr>\n",
       "    <tr>\n",
       "      <th>1</th>\n",
       "      <td>0.4</td>\n",
       "      <td>(Item2_B)</td>\n",
       "    </tr>\n",
       "    <tr>\n",
       "      <th>2</th>\n",
       "      <td>0.5</td>\n",
       "      <td>(Item2_C)</td>\n",
       "    </tr>\n",
       "    <tr>\n",
       "      <th>3</th>\n",
       "      <td>0.4</td>\n",
       "      <td>(Item1_A, Item2_B)</td>\n",
       "    </tr>\n",
       "    <tr>\n",
       "      <th>4</th>\n",
       "      <td>0.3</td>\n",
       "      <td>(Item1_A, Item2_C)</td>\n",
       "    </tr>\n",
       "  </tbody>\n",
       "</table>\n",
       "</div>"
      ],
      "text/plain": [
       "   support            itemsets\n",
       "0      0.8           (Item1_A)\n",
       "1      0.4           (Item2_B)\n",
       "2      0.5           (Item2_C)\n",
       "3      0.4  (Item1_A, Item2_B)\n",
       "4      0.3  (Item1_A, Item2_C)"
      ]
     },
     "execution_count": 7,
     "metadata": {},
     "output_type": "execute_result"
    }
   ],
   "source": [
    "# 빈발항목 집합 찾기\n",
    "frequent = apriori(one_hot, min_support = 0.3, use_colnames = True)\n",
    "frequent\n",
    "# one_hot : 분석할 데이터셋\n",
    "# min_support : 최소 지지도(이 값보다 높은 지지도를 가진 항목 집합만 반환)\n",
    "# use_colnames : 반환된 데이터프레임에서 항목 집합을 열이름으로 사용할 결정"
   ]
  },
  {
   "cell_type": "code",
   "execution_count": 9,
   "id": "c87b29ed",
   "metadata": {},
   "outputs": [
    {
     "data": {
      "text/html": [
       "<div>\n",
       "<style scoped>\n",
       "    .dataframe tbody tr th:only-of-type {\n",
       "        vertical-align: middle;\n",
       "    }\n",
       "\n",
       "    .dataframe tbody tr th {\n",
       "        vertical-align: top;\n",
       "    }\n",
       "\n",
       "    .dataframe thead th {\n",
       "        text-align: right;\n",
       "    }\n",
       "</style>\n",
       "<table border=\"1\" class=\"dataframe\">\n",
       "  <thead>\n",
       "    <tr style=\"text-align: right;\">\n",
       "      <th></th>\n",
       "      <th>antecedents</th>\n",
       "      <th>consequents</th>\n",
       "      <th>antecedent support</th>\n",
       "      <th>consequent support</th>\n",
       "      <th>support</th>\n",
       "      <th>confidence</th>\n",
       "      <th>lift</th>\n",
       "      <th>leverage</th>\n",
       "      <th>conviction</th>\n",
       "      <th>zhangs_metric</th>\n",
       "    </tr>\n",
       "  </thead>\n",
       "  <tbody>\n",
       "    <tr>\n",
       "      <th>0</th>\n",
       "      <td>(Item1_A)</td>\n",
       "      <td>(Item2_B)</td>\n",
       "      <td>0.8</td>\n",
       "      <td>0.4</td>\n",
       "      <td>0.4</td>\n",
       "      <td>0.5</td>\n",
       "      <td>1.25</td>\n",
       "      <td>0.08</td>\n",
       "      <td>1.2</td>\n",
       "      <td>1.000000</td>\n",
       "    </tr>\n",
       "    <tr>\n",
       "      <th>1</th>\n",
       "      <td>(Item2_B)</td>\n",
       "      <td>(Item1_A)</td>\n",
       "      <td>0.4</td>\n",
       "      <td>0.8</td>\n",
       "      <td>0.4</td>\n",
       "      <td>1.0</td>\n",
       "      <td>1.25</td>\n",
       "      <td>0.08</td>\n",
       "      <td>inf</td>\n",
       "      <td>0.333333</td>\n",
       "    </tr>\n",
       "  </tbody>\n",
       "</table>\n",
       "</div>"
      ],
      "text/plain": [
       "  antecedents consequents  antecedent support  consequent support  support  \\\n",
       "0   (Item1_A)   (Item2_B)                 0.8                 0.4      0.4   \n",
       "1   (Item2_B)   (Item1_A)                 0.4                 0.8      0.4   \n",
       "\n",
       "   confidence  lift  leverage  conviction  zhangs_metric  \n",
       "0         0.5  1.25      0.08         1.2       1.000000  \n",
       "1         1.0  1.25      0.08         inf       0.333333  "
      ]
     },
     "execution_count": 9,
     "metadata": {},
     "output_type": "execute_result"
    }
   ],
   "source": [
    "# 연관규칙 추출\n",
    "# 모든 연관규칙을 추출하려면 최소 임계치를 0으로 설정한다\n",
    "rules = association_rules(frequent, metric = 'lift', min_threshold = 1.0)\n",
    "rules\n",
    "\n",
    "# frequent : 빈발항목집합 데이터프레임(apriori)\n",
    "# metric : 규칙의 품질을 측정하는 평가지표\n",
    "# lift, upport, confidence, leverage, confiction\n",
    "# min_threshold : 최소 임계치(기본값 1.0)\n",
    "\n",
    "# 데이터프레임 반환\n",
    "# frequent_item_sets : 규칙의 전제항목\n",
    "# antecedents : 규칙의 결과항목\n",
    "# support : 규칙의 지지도를 나타냄\n",
    "# confidence : 규칙의 신뢰도\n",
    "# lift : 규칙의 리프트(독립적인 확률에 비해 규칙을 따를 확률의 상대적 증가)\n"
   ]
  },
  {
   "cell_type": "code",
   "execution_count": 10,
   "id": "b5e1e53e",
   "metadata": {},
   "outputs": [
    {
     "data": {
      "text/plain": [
       "0    (Item1_A)\n",
       "1    (Item2_B)\n",
       "Name: antecedents, dtype: object"
      ]
     },
     "execution_count": 10,
     "metadata": {},
     "output_type": "execute_result"
    }
   ],
   "source": [
    "rules['antecedents'] #조건절"
   ]
  },
  {
   "cell_type": "code",
   "execution_count": null,
   "id": "5b837194",
   "metadata": {},
   "outputs": [],
   "source": []
  },
  {
   "cell_type": "code",
   "execution_count": null,
   "id": "3fcddd4c",
   "metadata": {},
   "outputs": [],
   "source": []
  },
  {
   "cell_type": "code",
   "execution_count": null,
   "id": "da715963",
   "metadata": {},
   "outputs": [],
   "source": []
  },
  {
   "cell_type": "code",
   "execution_count": null,
   "id": "99381d75",
   "metadata": {},
   "outputs": [],
   "source": []
  },
  {
   "cell_type": "code",
   "execution_count": null,
   "id": "b9a97e53",
   "metadata": {},
   "outputs": [],
   "source": []
  },
  {
   "cell_type": "code",
   "execution_count": null,
   "id": "6cd0308a",
   "metadata": {},
   "outputs": [],
   "source": []
  },
  {
   "cell_type": "code",
   "execution_count": null,
   "id": "5a270b25",
   "metadata": {},
   "outputs": [],
   "source": []
  },
  {
   "cell_type": "code",
   "execution_count": null,
   "id": "964275f1",
   "metadata": {},
   "outputs": [],
   "source": []
  }
 ],
 "metadata": {
  "kernelspec": {
   "display_name": "Python 3 (ipykernel)",
   "language": "python",
   "name": "python3"
  },
  "language_info": {
   "codemirror_mode": {
    "name": "ipython",
    "version": 3
   },
   "file_extension": ".py",
   "mimetype": "text/x-python",
   "name": "python",
   "nbconvert_exporter": "python",
   "pygments_lexer": "ipython3",
   "version": "3.11.5"
  }
 },
 "nbformat": 4,
 "nbformat_minor": 5
}
