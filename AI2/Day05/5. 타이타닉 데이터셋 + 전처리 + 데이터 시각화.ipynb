{
 "cells": [
  {
   "cell_type": "markdown",
   "id": "6919aed3",
   "metadata": {},
   "source": [
    "1. 데이터셋 정보확인\n",
    "2. 결측값 확인 -> 채우거나 제거\n",
    "3. 중복값 확인\n",
    "4. 문자열 -> 숫자(원 - 핫 인코딩)\n",
    "5. 불필요한 컬럼 삭제\n",
    "6. 상관관계 확인\n",
    "7. 시각화"
   ]
  },
  {
   "cell_type": "code",
   "execution_count": null,
   "id": "e706f377",
   "metadata": {},
   "outputs": [],
   "source": [
    "# 타이타닉 시각화\n",
    "# 1) 생존여부를 원형그래프, 막대그래프\n",
    "# 2) pclass 막대그래프\n",
    "# 3) Pclass에 따른 사망, 생존여부 그래프\n",
    "# 4) 원형그래프 사망 - Pclass, 생존 - Pclass 비율 확인\n",
    "# 5) Pclass와 가격의 차이 막대 그래프\n",
    "# (Fare의 값 확인 후 평균으로 할지, 최대-최소 차이로 진행할지 선택)\n",
    "# 6) 성별에 따른 원형그래프, 막대그래프\n",
    "# 7) 성별에 따른 생조느 사망 여부 막대그래프"
   ]
  },
  {
   "cell_type": "code",
   "execution_count": null,
   "id": "f5061dce",
   "metadata": {},
   "outputs": [],
   "source": []
  },
  {
   "cell_type": "code",
   "execution_count": null,
   "id": "b9b97876",
   "metadata": {},
   "outputs": [],
   "source": []
  },
  {
   "cell_type": "code",
   "execution_count": null,
   "id": "fd224df8",
   "metadata": {},
   "outputs": [],
   "source": []
  },
  {
   "cell_type": "code",
   "execution_count": null,
   "id": "d2c87f40",
   "metadata": {},
   "outputs": [],
   "source": []
  },
  {
   "cell_type": "code",
   "execution_count": null,
   "id": "ed2f9173",
   "metadata": {},
   "outputs": [],
   "source": []
  },
  {
   "cell_type": "code",
   "execution_count": null,
   "id": "122121bb",
   "metadata": {},
   "outputs": [],
   "source": []
  },
  {
   "cell_type": "code",
   "execution_count": null,
   "id": "bcaad4db",
   "metadata": {},
   "outputs": [],
   "source": []
  },
  {
   "cell_type": "code",
   "execution_count": null,
   "id": "145794af",
   "metadata": {},
   "outputs": [],
   "source": []
  },
  {
   "cell_type": "code",
   "execution_count": null,
   "id": "97408746",
   "metadata": {},
   "outputs": [],
   "source": []
  }
 ],
 "metadata": {
  "kernelspec": {
   "display_name": "Python 3 (ipykernel)",
   "language": "python",
   "name": "python3"
  },
  "language_info": {
   "codemirror_mode": {
    "name": "ipython",
    "version": 3
   },
   "file_extension": ".py",
   "mimetype": "text/x-python",
   "name": "python",
   "nbconvert_exporter": "python",
   "pygments_lexer": "ipython3",
   "version": "3.11.5"
  }
 },
 "nbformat": 4,
 "nbformat_minor": 5
}
